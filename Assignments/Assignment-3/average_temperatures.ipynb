{
 "cells": [
  {
   "cell_type": "code",
   "execution_count": 4,
   "metadata": {
    "collapsed": false
   },
   "outputs": [
    {
     "name": "stdout",
     "output_type": "stream",
     "text": [
      "[-7.4, -4.7, 3.1, 6.8, 15.9, 20.0, 22.3, 22.2, 16.0, 10.8, 0.5, -3.5]\n"
     ]
    }
   ],
   "source": [
    "#retrieve montreal temp data\n",
    "mon_t = []\n",
    "reader = open('montreal_temperature_2012.dat', 'r')\n",
    "for line in reader:\n",
    "    line = line[:-1]\n",
    "    mon_t.append(float(line)) #produces a list of temperatures converted to float from the .dat file \n",
    "reader.close()\n",
    "print mon_t"
   ]
  },
  {
   "cell_type": "code",
   "execution_count": 5,
   "metadata": {
    "collapsed": false
   },
   "outputs": [
    {
     "name": "stdout",
     "output_type": "stream",
     "text": [
      "[-1.7, -0.3, 6.7, 7.3, 16.6, 20.6, 24.3, 21.6, 16.4, 10.2, 3.5, 0.8]\n"
     ]
    }
   ],
   "source": [
    "#retrieve toronto temp data\n",
    "tor_t = []\n",
    "reader = open('toronto_temperature_2012.dat', 'r')\n",
    "for line in reader:\n",
    "    line = line[:-1]\n",
    "    tor_t.append(float(line)) #produces a list of temperatures converted to float from the .dat file \n",
    "reader.close()\n",
    "print tor_t"
   ]
  },
  {
   "cell_type": "code",
   "execution_count": 6,
   "metadata": {
    "collapsed": false
   },
   "outputs": [
    {
     "name": "stdout",
     "output_type": "stream",
     "text": [
      "[3.6, 4.8, 5.6, 9.6, 12.2, 14.3, 17.7, 19.0, 15.4, 10.5, 7.2, 4.4]\n"
     ]
    }
   ],
   "source": [
    "#retrieve vancouver temp data\n",
    "van_t = []\n",
    "reader = open('vancouver_temperature_2012.dat', 'r')\n",
    "for line in reader:\n",
    "    line = line[:-1]\n",
    "    van_t.append(float(line)) #produces a list of temperatures converted to float from the .dat file \n",
    "reader.close()\n",
    "print van_t"
   ]
  },
  {
   "cell_type": "code",
   "execution_count": 33,
   "metadata": {
    "collapsed": false
   },
   "outputs": [],
   "source": [
    "import matplotlib.pyplot as plt\n",
    "import matplotlib.dates as mdates\n",
    "import datetime\n",
    "import numpy as np\n",
    "\n",
    "time = (mdates.drange(datetime.datetime(2012, 1, 1), datetime.datetime(2012, 12, 1), datetime.timedelta(weeks=4)))\n",
    "\n",
    "plt.plot_date(time, mon_t, 'r-', label='Montreal')\n",
    "plt.plot_date(time, tor_t, 'b-', label='Toronto')\n",
    "plt.plot_date(time, van_t, 'g-', label='Vancouver')\n",
    "plt.legend(loc='upper left');\n",
    "plt.title('2012 average monthly temperatures 100519748', bbox={'facecolor':'1', 'pad':5})\n",
    "\n",
    "plt.show()"
   ]
  },
  {
   "cell_type": "code",
   "execution_count": null,
   "metadata": {
    "collapsed": true
   },
   "outputs": [],
   "source": []
  }
 ],
 "metadata": {
  "kernelspec": {
   "display_name": "Python 2",
   "language": "python",
   "name": "python2"
  },
  "language_info": {
   "codemirror_mode": {
    "name": "ipython",
    "version": 2
   },
   "file_extension": ".py",
   "mimetype": "text/x-python",
   "name": "python",
   "nbconvert_exporter": "python",
   "pygments_lexer": "ipython2",
   "version": "2.7.10"
  }
 },
 "nbformat": 4,
 "nbformat_minor": 0
}
