{
 "cells": [
  {
   "cell_type": "code",
   "execution_count": 43,
   "metadata": {
    "collapsed": false
   },
   "outputs": [],
   "source": [
    "import numpy as np\n",
    "import math\n",
    "def approx(func, n):\n",
    "    '''approximate Pi by calling the rho, tao, or mu functions over n values (func, n)'''\n",
    "    if func == rho:\n",
    "        func_1 = 'rho_n'\n",
    "    elif func == tao:\n",
    "        func_1 = 'tao_n'\n",
    "    elif func == mu:\n",
    "        func_1 = 'mu_n'\n",
    "    else:\n",
    "        print \"That function is undefined\"\n",
    "    print 'When n = ' + '%7s' % (str(n,)) + ', ' + func_1 + ' = ' + str(func(n))"
   ]
  },
  {
   "cell_type": "code",
   "execution_count": 44,
   "metadata": {
    "collapsed": false
   },
   "outputs": [],
   "source": [
    "def rho(n):\n",
    "    '''Approximate Pi using the rho function over n values'''\n",
    "    rho_n = []\n",
    "    for k in range(1,n+1):\n",
    "        rho_n.append(float((-1.0)**(k+1))/(2*k-1))\n",
    "    rho_sum = sum(float(i) for i in rho_n)\n",
    "    rho_approx = 4*rho_sum\n",
    "    return rho_approx"
   ]
  },
  {
   "cell_type": "code",
   "execution_count": 45,
   "metadata": {
    "collapsed": true
   },
   "outputs": [],
   "source": [
    "def tao(n):\n",
    "    '''Approximate Pi using the tao function over n values'''\n",
    "    tao_n = []\n",
    "    for k in range (1,n+1):\n",
    "        tao_n.append((1/k**2.0))\n",
    "    tao_sum = math.fsum(tao_n)\n",
    "    tao_approx = (6*tao_sum)**0.5\n",
    "    return tao_approx"
   ]
  },
  {
   "cell_type": "code",
   "execution_count": 38,
   "metadata": {
    "collapsed": true
   },
   "outputs": [],
   "source": [
    "def mu(n):\n",
    "    '''Approximate Pi using the mu function over n values'''\n",
    "    mu_n = []\n",
    "    for k in range (1,n+1):\n",
    "        mu_n.append(1/(k**4.0))\n",
    "    mu_sum = math.fsum(mu_n)\n",
    "    mu_approx = (90*mu_sum)**0.25\n",
    "    return mu_approx"
   ]
  }
 ],
 "metadata": {
  "kernelspec": {
   "display_name": "Python 2",
   "language": "python",
   "name": "python2"
  },
  "language_info": {
   "codemirror_mode": {
    "name": "ipython",
    "version": 2
   },
   "file_extension": ".py",
   "mimetype": "text/x-python",
   "name": "python",
   "nbconvert_exporter": "python",
   "pygments_lexer": "ipython2",
   "version": "2.7.10"
  }
 },
 "nbformat": 4,
 "nbformat_minor": 0
}
