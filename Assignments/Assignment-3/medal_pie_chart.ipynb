{
 "cells": [
  {
   "cell_type": "code",
   "execution_count": 1,
   "metadata": {
    "collapsed": true
   },
   "outputs": [],
   "source": [
    "#creates a square figure and axes\n",
    "from pylab import *\n",
    "figure(1, figsize=(6,6))\n",
    "ax = axes([0.1, 0.1, 0.8, 0.8])"
   ]
  },
  {
   "cell_type": "code",
   "execution_count": 2,
   "metadata": {
    "collapsed": false
   },
   "outputs": [],
   "source": [
    "#create the slices and put em in place\n",
    "countries = 'USA', 'CHN', 'GBR', 'RUS', 'KOR', 'GER', 'FRA', 'ITA', 'HUN', 'AUS', 'OTHER'\n",
    "medals = [46, 38, 29, 24, 13, 11, 11, 8, 8, 7, 107]\n",
    "for i in range(len(medals)):\n",
    "    medals[i-1] = (float(medals[i-1])/302)*100\n",
    "explode = (0, 0, 0, 0, 0.2, 0.2, 0.2, 0.2, 0.2, 0.2, 0)\n",
    "\n",
    "pie(medals, explode=explode, labels=countries, autopct='%1.1f%%', shadow=True, startangle=90)\n",
    "\n",
    "title('2012 Olympic gold medals 100519748', bbox={'facecolor':'.5', 'pad':4})\n",
    "\n",
    "show()"
   ]
  }
 ],
 "metadata": {
  "kernelspec": {
   "display_name": "Python 2",
   "language": "python",
   "name": "python2"
  },
  "language_info": {
   "codemirror_mode": {
    "name": "ipython",
    "version": 2
   },
   "file_extension": ".py",
   "mimetype": "text/x-python",
   "name": "python",
   "nbconvert_exporter": "python",
   "pygments_lexer": "ipython2",
   "version": "2.7.10"
  }
 },
 "nbformat": 4,
 "nbformat_minor": 0
}
