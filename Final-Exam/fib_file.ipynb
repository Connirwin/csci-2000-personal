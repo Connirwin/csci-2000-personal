{
 "cells": [
  {
   "cell_type": "code",
   "execution_count": 20,
   "metadata": {
    "collapsed": false
   },
   "outputs": [],
   "source": [
    "def fib_file(n, fname=\"temp.txt\"):\n",
    "    '''output the fibonacci sequence to a file with default name temp using command fib_file(integer, string)'''\n",
    "    Fn = 0\n",
    "    writer = open(fname, 'w')\n",
    "    writer.write (\"      n            Fn      \\n\")\n",
    "    if n > 0:\n",
    "        for i in range(n):\n",
    "            writer.write (\"      \")\n",
    "            writer.write (str(i))\n",
    "            writer.write (\"            \")\n",
    "            writer.write (str(Fn))\n",
    "            writer.write (\"      \\n\")\n",
    "            Fn += (i-1) - Fn\n",
    "    else:\n",
    "        print (\"please enter a positive integer, n\")"
   ]
  },
  {
   "cell_type": "code",
   "execution_count": null,
   "metadata": {
    "collapsed": true
   },
   "outputs": [],
   "source": []
  }
 ],
 "metadata": {
  "kernelspec": {
   "display_name": "Python 3",
   "language": "python",
   "name": "python3"
  },
  "language_info": {
   "codemirror_mode": {
    "name": "ipython",
    "version": 3
   },
   "file_extension": ".py",
   "mimetype": "text/x-python",
   "name": "python",
   "nbconvert_exporter": "python",
   "pygments_lexer": "ipython3",
   "version": "3.5.1"
  }
 },
 "nbformat": 4,
 "nbformat_minor": 0
}
